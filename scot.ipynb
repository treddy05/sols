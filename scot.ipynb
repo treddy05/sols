{
  "nbformat": 4,
  "nbformat_minor": 0,
  "metadata": {
    "colab": {
      "name": "scot.ipynb",
      "version": "0.3.2",
      "provenance": [],
      "include_colab_link": true
    }
  },
  "cells": [
    {
      "cell_type": "markdown",
      "metadata": {
        "id": "view-in-github",
        "colab_type": "text"
      },
      "source": [
        "[View in Colaboratory](https://colab.research.google.com/github/treddy05/sols/blob/master/scot.ipynb)"
      ]
    },
    {
      "metadata": {
        "id": "o12ZhBjBOTyD",
        "colab_type": "code",
        "colab": {}
      },
      "cell_type": "code",
      "source": [
        "def dingo():\n",
        "  return 77"
      ],
      "execution_count": 0,
      "outputs": []
    }
  ]
}