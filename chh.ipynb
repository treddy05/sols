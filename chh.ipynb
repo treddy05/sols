{
  "nbformat": 4,
  "nbformat_minor": 0,
  "metadata": {
    "colab": {
      "name": "chh.ipynb",
      "version": "0.3.2",
      "provenance": [],
      "include_colab_link": true
    },
    "kernelspec": {
      "name": "python3",
      "display_name": "Python 3"
    }
  },
  "cells": [
    {
      "cell_type": "markdown",
      "metadata": {
        "id": "view-in-github",
        "colab_type": "text"
      },
      "source": [
        "[View in Colaboratory](https://colab.research.google.com/github/treddy05/sols/blob/master/chh.ipynb)"
      ]
    },
    {
      "metadata": {
        "id": "6Ok4UX2pW_A5",
        "colab_type": "code",
        "colab": {}
      },
      "cell_type": "code",
      "source": [
        "def dingo():\n",
        "  return 77"
      ],
      "execution_count": 0,
      "outputs": []
    }
  ]
}